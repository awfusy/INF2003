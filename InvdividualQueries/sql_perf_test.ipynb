{
 "cells": [
  {
   "cell_type": "code",
   "execution_count": 1,
   "metadata": {},
   "outputs": [],
   "source": [
    "import paramiko\n",
    "import mysql.connector\t\n",
    "from mysql.connector import connect, Error\n",
    "import sshtunnel\n",
    "import time\n",
    "\n",
    "# SSH Configuration\n",
    "ssh_host = '35.212.230.135'\n",
    "ssh_port = 22\n",
    "ssh_user = 'dev'\n",
    "ssh_password = 'Inf2003dev'\n",
    "\n",
    "# MySQL Configuration\n",
    "mysql_host = 'localhost'  # or the IP address of your MySQL server\n",
    "mysql_port = 3306\n",
    "mysql_user = 'sqluser'\n",
    "mysql_password = 'Inf2003user'\n",
    "mysql_database = 'olist_db'"
   ]
  },
  {
   "cell_type": "code",
   "execution_count": null,
   "metadata": {},
   "outputs": [],
   "source": [
    "# Establish SSH connection\n",
    "ssh_client = paramiko.SSHClient()\n",
    "ssh_client.set_missing_host_key_policy(paramiko.AutoAddPolicy())\n",
    "\n",
    "\n",
    "ssh_client.connect(ssh_host, ssh_port, ssh_user, ssh_password)\n",
    "print(\"SSH Connection Established\")\n",
    "\n",
    "# Establish MySQL connection through SSH tunnel\n",
    "tunnel = sshtunnel.SSHTunnelForwarder(\n",
    "        (ssh_host, ssh_port),\n",
    "        ssh_username=ssh_user,\n",
    "        ssh_password=ssh_password,\n",
    "        remote_bind_address=(mysql_host, mysql_port),\n",
    ")\n",
    "tunnel.start()\n",
    "print(\"SSH Tunnel Established\")\n",
    "\n",
    "connection = mysql.connector.connect(\n",
    "        user=mysql_user,\n",
    "        host=mysql_host,\n",
    "        port=tunnel.local_bind_port,\n",
    "        password=mysql_password,\n",
    "        database=mysql_database,\n",
    "        use_pure=True,  \n",
    "                \n",
    ")\n",
    "print(\"MySQL Connection Established\")\n"
   ]
  },
  {
   "cell_type": "code",
   "execution_count": 1,
   "metadata": {},
   "outputs": [],
   "source": [
    "# Your MySQL query here\n",
    "#cursor = connection.cursor()\n",
    "query = \"SELECT p.product_category_name, COUNT(DISTINCT oi.order_id) AS Num_orders, SUM(oi.price) AS Revenue \\\n",
    "FROM olist_order_items_dataset oi \\\n",
    "JOIN olist_products_dataset p ON oi.product_id = p.product_id \\\n",
    "JOIN olist_orders_dataset o ON oi.order_id = o.order_id \\\n",
    "WHERE o.order_status <> 'canceled' AND o.order_delivered_customer_date IS NOT NULL \\\n",
    "GROUP BY p.product_category_name \\\n",
    "ORDER BY Revenue DESC; \\\n",
    "\"\n"
   ]
  },
  {
   "cell_type": "code",
   "execution_count": null,
   "metadata": {},
   "outputs": [],
   "source": [
    "timelist = []\n",
    "num = 0\n",
    "while num < 10:\n",
    "    seconds = time.time()\n",
    "    cursor = connection.cursor()\n",
    "    cursor.execute(query)\n",
    "    result = cursor.fetchall()\n",
    "    cursor.close()\n",
    "    timetaken = time.time() - seconds\n",
    "\n",
    "    # for r in reuslt:\n",
    "    #     print(r)\n",
    "\n",
    "    timelist.append(timetaken)\n",
    "    num += 1\n",
    "    print(num)\n",
    "\n",
    "for i in timelist:\n",
    "    print(i)"
   ]
  },
  {
   "cell_type": "code",
   "execution_count": null,
   "metadata": {},
   "outputs": [],
   "source": [
    "cursor = connection.cursor()\n",
    "seconds = time.time()\n",
    "cursor.execute(query)\n",
    "timetaken = time.time() - seconds\n",
    "result = cursor.fetchall()\n",
    "cursor.close()\n",
    "print(timetaken)"
   ]
  },
  {
   "cell_type": "code",
   "execution_count": 8,
   "metadata": {},
   "outputs": [],
   "source": [
    "connection.close()\n",
    "# Close SSH connection\n",
    "ssh_client.close()"
   ]
  }
 ],
 "metadata": {
  "kernelspec": {
   "display_name": "Python 3",
   "language": "python",
   "name": "python3"
  },
  "language_info": {
   "codemirror_mode": {
    "name": "ipython",
    "version": 3
   },
   "file_extension": ".py",
   "mimetype": "text/x-python",
   "name": "python",
   "nbconvert_exporter": "python",
   "pygments_lexer": "ipython3",
   "version": "3.10.6"
  }
 },
 "nbformat": 4,
 "nbformat_minor": 2
}
